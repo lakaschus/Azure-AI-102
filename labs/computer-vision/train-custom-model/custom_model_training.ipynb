{
 "cells": [
  {
   "cell_type": "markdown",
   "metadata": {},
   "source": [
    "Train custom model like in this tutorial (https://microsoftlearning.github.io/mslearn-ai-vision/Instructions/Exercises/02-image-classification.html) but using SDK/API for automation\n",
    "\n",
    "Further resources:\n",
    "- https://learn.microsoft.com/en-us/azure/ai-services/computer-vision/overview\n",
    "- https://learn.microsoft.com/en-us/azure/ai-services/computer-vision/how-to/model-customization?tabs=studio"
   ]
  },
  {
   "cell_type": "code",
   "execution_count": null,
   "metadata": {},
   "outputs": [],
   "source": [
    "# TODO"
   ]
  }
 ],
 "metadata": {
  "language_info": {
   "name": "python"
  }
 },
 "nbformat": 4,
 "nbformat_minor": 2
}
