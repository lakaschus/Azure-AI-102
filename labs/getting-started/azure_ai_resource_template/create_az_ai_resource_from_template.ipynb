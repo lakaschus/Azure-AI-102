{
 "cells": [
  {
   "cell_type": "markdown",
   "metadata": {},
   "source": [
    "# Create azure resorces from template\n",
    "\n",
    "It is always possible to create Azure resources using the UI. However, for automation it is better to use templates in which the deployment of resources is defined.\n",
    "\n",
    "In this directory the template and parameters for automated deployment are given. However, the parameters need to be individually adapted to your azure account (subscription id, resource group name, location, etc.)"
   ]
  },
  {
   "cell_type": "code",
   "execution_count": 25,
   "metadata": {},
   "outputs": [
    {
     "name": "stdout",
     "output_type": "stream",
     "text": [
      "[\n",
      "  {\n",
      "    \"cloudName\": \"AzureCloud\",\n",
      "    \"homeTenantId\": \"1fdb6d07-480b-4c31-a913-e847d51e7446\",\n",
      "    \"id\": \"ea54fca2-3a3e-4b3b-91e7-a7bf971e0443\",\n",
      "    \"isDefault\": true,\n",
      "    \"managedByTenants\": [],\n",
      "    \"name\": \"Azure subscription 1\",\n",
      "    \"state\": \"Enabled\",\n",
      "    \"tenantId\": \"1fdb6d07-480b-4c31-a913-e847d51e7446\",\n",
      "    \"user\": {\n",
      "      \"name\": \"Philliplakaschus@gmail.com\",\n",
      "      \"type\": \"user\"\n",
      "    }\n",
      "  }\n",
      "]\n"
     ]
    },
    {
     "name": "stderr",
     "output_type": "stream",
     "text": [
      "WARNING: A web browser has been opened at https://login.microsoftonline.com/organizations/oauth2/v2.0/authorize. Please continue the login in the web browser. If no web browser is available or if the web browser fails to open, use device code flow with `az login --use-device-code`.\n"
     ]
    }
   ],
   "source": [
    "# Before you start make sure you're logged into your Azure account\n",
    "!az login"
   ]
  },
  {
   "cell_type": "markdown",
   "metadata": {},
   "source": [
    "## Deploy resources from template"
   ]
  },
  {
   "cell_type": "markdown",
   "metadata": {},
   "source": [
    "https://learn.microsoft.com/en-us/azure/azure-resource-manager/templates/deploy-python#deploy-local-template"
   ]
  },
  {
   "cell_type": "code",
   "execution_count": 26,
   "metadata": {},
   "outputs": [],
   "source": [
    "import os\n",
    "from azure.identity import AzureCliCredential\n",
    "from azure.mgmt.resource import ResourceManagementClient\n",
    "from dotenv import load_dotenv\n",
    "load_dotenv()\n",
    "\n",
    "# Get resource client\n",
    "credential = AzureCliCredential()\n",
    "subscription_id = os.environ[\"AZURE_SUBSCRIPTION_ID\"]\n",
    "resource_client = ResourceManagementClient(credential, subscription_id)"
   ]
  },
  {
   "cell_type": "code",
   "execution_count": 27,
   "metadata": {},
   "outputs": [],
   "source": [
    "# Load parameters and template\n",
    "import json\n",
    "\n",
    "with open(\"parameters.json\", \"r\") as template_file:\n",
    "    params = json.load(template_file)['parameters']\n",
    "\n",
    "with open(\"template.json\", \"r\") as template_file:\n",
    "    template_body = json.load(template_file)"
   ]
  },
  {
   "cell_type": "code",
   "execution_count": 28,
   "metadata": {},
   "outputs": [
    {
     "name": "stdout",
     "output_type": "stream",
     "text": [
      "Provisioned resource group with ID: /subscriptions/ea54fca2-3a3e-4b3b-91e7-a7bf971e0443/resourceGroups/ai102-example\n"
     ]
    }
   ],
   "source": [
    "# Make sure the resource group exists\n",
    "rg_name = params['resourceGroupName']['value']\n",
    "rg_location = params['location']['value']\n",
    "rg_result = resource_client.resource_groups.create_or_update(\n",
    "    rg_name,\n",
    "    {\n",
    "        \"location\": rg_location\n",
    "    }\n",
    ")\n",
    "\n",
    "print(f\"Provisioned resource group with ID: {rg_result.id}\")"
   ]
  },
  {
   "cell_type": "code",
   "execution_count": 29,
   "metadata": {},
   "outputs": [],
   "source": [
    "from azure.mgmt.resource.resources.models import DeploymentMode\n",
    "\n",
    "deployment_name = params['name']['value']\n",
    "rg_deployment_result = resource_client.deployments.begin_create_or_update(\n",
    "    resource_group_name=rg_name,\n",
    "    deployment_name=deployment_name,\n",
    "    parameters={\n",
    "        \"properties\": {\n",
    "            \"template\": template_body,\n",
    "            \"parameters\": params,\n",
    "            'mode': DeploymentMode.incremental\n",
    "        }\n",
    "    }\n",
    ")"
   ]
  },
  {
   "cell_type": "code",
   "execution_count": 31,
   "metadata": {},
   "outputs": [
    {
     "data": {
      "text/plain": [
       "'Succeeded'"
      ]
     },
     "execution_count": 31,
     "metadata": {},
     "output_type": "execute_result"
    }
   ],
   "source": [
    "rg_deployment_result.status()"
   ]
  },
  {
   "cell_type": "code",
   "execution_count": 32,
   "metadata": {},
   "outputs": [],
   "source": [
    "# Get the endpoint of the deployed web app\n",
    "ai_endpoint_name = f\"https://{deployment_name}.cognitiveservices.azure.com/\""
   ]
  },
  {
   "cell_type": "code",
   "execution_count": 35,
   "metadata": {},
   "outputs": [],
   "source": [
    "# Get the key of the deployed web app\n",
    "from azure.mgmt.cognitiveservices import CognitiveServicesManagementClient\n",
    "\n",
    "client = CognitiveServicesManagementClient(credential, subscription_id)\n",
    "\n",
    "# Get the account keys\n",
    "keys = client.accounts.list_keys(rg_name, deployment_name)\n",
    "\n",
    "# For safety never print out the keys\n",
    "ai_key = keys.key1\n"
   ]
  },
  {
   "cell_type": "markdown",
   "metadata": {},
   "source": [
    "Note that the deployment take a few minutes. After successful deployment continue testing the Azure AI service resource. There are two ways to access the AI service endpoint. Note that each call costs a small amount of money."
   ]
  },
  {
   "cell_type": "markdown",
   "metadata": {},
   "source": [
    "## Option 1: Use REST client"
   ]
  },
  {
   "cell_type": "code",
   "execution_count": 36,
   "metadata": {},
   "outputs": [],
   "source": [
    "import os\n",
    "import http.client, json"
   ]
  },
  {
   "cell_type": "code",
   "execution_count": 37,
   "metadata": {},
   "outputs": [],
   "source": [
    "def main():\n",
    "    global ai_endpoint\n",
    "    global ai_key\n",
    "\n",
    "    try:\n",
    "        # Get Configuration Settings\n",
    "        load_dotenv()\n",
    "        ai_endpoint = ai_endpoint_name\n",
    "        ai_key = ai_key\n",
    "\n",
    "        # Get user input (until they enter \"quit\")\n",
    "        userText =''\n",
    "        while userText.lower() != 'quit':\n",
    "            userText = input('Enter some text (\"quit\" to stop)\\n')\n",
    "            if userText.lower() != 'quit':\n",
    "                GetLanguage(userText)\n",
    "\n",
    "\n",
    "    except Exception as ex:\n",
    "        print(ex)\n",
    "\n",
    "def GetLanguage(text):\n",
    "    try:\n",
    "        # Construct the JSON request body (a collection of documents, each with an ID and text)\n",
    "        jsonBody = {\n",
    "            \"documents\":[\n",
    "                {\"id\": 1,\n",
    "                 \"text\": text}\n",
    "            ]\n",
    "        }\n",
    "\n",
    "        # Let's take a look at the JSON we'll send to the service\n",
    "        print(json.dumps(jsonBody, indent=2))\n",
    "\n",
    "        # Make an HTTP request to the REST interface\n",
    "        uri = ai_endpoint.rstrip('/').replace('https://', '')\n",
    "        conn = http.client.HTTPSConnection(uri)\n",
    "\n",
    "        # Add the authentication key to the request header\n",
    "        headers = {\n",
    "            'Content-Type': 'application/json',\n",
    "            'Ocp-Apim-Subscription-Key': ai_key\n",
    "        }\n",
    "\n",
    "        # Use the Text Analytics language API\n",
    "        conn.request(\"POST\", \"/text/analytics/v3.1/languages?\", str(jsonBody).encode('utf-8'), headers)\n",
    "\n",
    "        # Send the request\n",
    "        response = conn.getresponse()\n",
    "        data = response.read().decode(\"UTF-8\")\n",
    "\n",
    "        # If the call was successful, get the response\n",
    "        if response.status == 200:\n",
    "\n",
    "            # Display the JSON response in full (just so we can see it)\n",
    "            results = json.loads(data)\n",
    "            print(json.dumps(results, indent=2))\n",
    "\n",
    "            # Extract the detected language name for each document\n",
    "            for document in results[\"documents\"]:\n",
    "                print(\"\\nLanguage:\", document[\"detectedLanguage\"][\"name\"])\n",
    "\n",
    "        else:\n",
    "            # Something went wrong, write the whole response\n",
    "            print(data)\n",
    "\n",
    "        conn.close()\n",
    "\n",
    "\n",
    "    except Exception as ex:\n",
    "        print(ex)"
   ]
  },
  {
   "cell_type": "code",
   "execution_count": 38,
   "metadata": {},
   "outputs": [
    {
     "name": "stdout",
     "output_type": "stream",
     "text": [
      "{\n",
      "  \"documents\": [\n",
      "    {\n",
      "      \"id\": 1,\n",
      "      \"text\": \"present\"\n",
      "    }\n",
      "  ]\n",
      "}\n",
      "{\n",
      "  \"documents\": [\n",
      "    {\n",
      "      \"id\": \"1\",\n",
      "      \"detectedLanguage\": {\n",
      "        \"name\": \"English\",\n",
      "        \"iso6391Name\": \"en\",\n",
      "        \"confidenceScore\": 1.0\n",
      "      },\n",
      "      \"warnings\": []\n",
      "    }\n",
      "  ],\n",
      "  \"errors\": [],\n",
      "  \"modelVersion\": \"2023-12-01\"\n",
      "}\n",
      "\n",
      "Language: English\n"
     ]
    }
   ],
   "source": [
    "main()"
   ]
  },
  {
   "cell_type": "markdown",
   "metadata": {},
   "source": [
    "## Option 2: Use Python SDK"
   ]
  },
  {
   "cell_type": "code",
   "execution_count": 39,
   "metadata": {},
   "outputs": [],
   "source": [
    "from dotenv import load_dotenv\n",
    "import os\n",
    "from azure.core.credentials import AzureKeyCredential\n",
    "from azure.ai.textanalytics import TextAnalyticsClient"
   ]
  },
  {
   "cell_type": "code",
   "execution_count": 40,
   "metadata": {},
   "outputs": [],
   "source": [
    "def main():\n",
    "    global ai_endpoint\n",
    "    global ai_key\n",
    "\n",
    "    try:\n",
    "        # Get Configuration Settings\n",
    "        load_dotenv()\n",
    "        ai_endpoint = ai_endpoint_name\n",
    "        ai_key = ai_key\n",
    "\n",
    "        # Get user input (until they enter \"quit\")\n",
    "        userText =''\n",
    "        while userText.lower() != 'quit':\n",
    "            userText = input('\\nEnter some text (\"quit\" to stop)\\n')\n",
    "            if userText.lower() != 'quit':\n",
    "                language = GetLanguage(userText)\n",
    "                print('Language:', language)\n",
    "\n",
    "    except Exception as ex:\n",
    "        print(ex)\n",
    "\n",
    "def GetLanguage(text):\n",
    "\n",
    "    # Create client using endpoint and key\n",
    "    credential = AzureKeyCredential(ai_key)\n",
    "    client = TextAnalyticsClient(endpoint=ai_endpoint, credential=credential)\n",
    "\n",
    "    # Call the service to get the detected language\n",
    "    detectedLanguage = client.detect_language(documents = [text])[0]\n",
    "    return detectedLanguage.primary_language.name"
   ]
  },
  {
   "cell_type": "code",
   "execution_count": 41,
   "metadata": {},
   "outputs": [
    {
     "name": "stdout",
     "output_type": "stream",
     "text": [
      "Language: English\n"
     ]
    }
   ],
   "source": [
    "main()"
   ]
  },
  {
   "cell_type": "markdown",
   "metadata": {},
   "source": [
    "## Optional: Delete resource group\n",
    "\n",
    "Since every information for the deployment is contained in the template, you can now also delete the entire resource group to make sure you're not getting charged for anything."
   ]
  },
  {
   "cell_type": "code",
   "execution_count": 14,
   "metadata": {},
   "outputs": [],
   "source": [
    "# Properly delete the resource group\n",
    "cleanup_operation = resource_client.resource_groups.begin_delete(rg_name)"
   ]
  },
  {
   "cell_type": "code",
   "execution_count": 76,
   "metadata": {},
   "outputs": [
    {
     "data": {
      "text/plain": [
       "'Succeeded'"
      ]
     },
     "execution_count": 76,
     "metadata": {},
     "output_type": "execute_result"
    }
   ],
   "source": [
    "cleanup_operation.status()"
   ]
  }
 ],
 "metadata": {
  "kernelspec": {
   "display_name": "Python 3",
   "language": "python",
   "name": "python3"
  },
  "language_info": {
   "codemirror_mode": {
    "name": "ipython",
    "version": 3
   },
   "file_extension": ".py",
   "mimetype": "text/x-python",
   "name": "python",
   "nbconvert_exporter": "python",
   "pygments_lexer": "ipython3",
   "version": "3.12.2"
  }
 },
 "nbformat": 4,
 "nbformat_minor": 2
}
