{
 "cells": [
  {
   "cell_type": "code",
   "execution_count": 1,
   "metadata": {},
   "outputs": [
    {
     "name": "stdout",
     "output_type": "stream",
     "text": [
      "[\n",
      "  {\n",
      "    \"cloudName\": \"AzureCloud\",\n",
      "    \"homeTenantId\": \"1fdb6d07-480b-4c31-a913-e847d51e7446\",\n",
      "    \"id\": \"ea54fca2-3a3e-4b3b-91e7-a7bf971e0443\",\n",
      "    \"isDefault\": true,\n",
      "    \"managedByTenants\": [],\n",
      "    \"name\": \"Azure subscription 1\",\n",
      "    \"state\": \"Enabled\",\n",
      "    \"tenantId\": \"1fdb6d07-480b-4c31-a913-e847d51e7446\",\n",
      "    \"user\": {\n",
      "      \"name\": \"Philliplakaschus@gmail.com\",\n",
      "      \"type\": \"user\"\n",
      "    }\n",
      "  }\n",
      "]\n"
     ]
    },
    {
     "name": "stderr",
     "output_type": "stream",
     "text": [
      "WARNING: A web browser has been opened at https://login.microsoftonline.com/organizations/oauth2/v2.0/authorize. Please continue the login in the web browser. If no web browser is available or if the web browser fails to open, use device code flow with `az login --use-device-code`.\n"
     ]
    }
   ],
   "source": [
    "!az login"
   ]
  },
  {
   "cell_type": "code",
   "execution_count": 6,
   "metadata": {},
   "outputs": [],
   "source": [
    "from azure.identity import DefaultAzureCredential\n",
    "from azure.mgmt.resource import ResourceManagementClient\n",
    "from azure.mgmt.consumption import ConsumptionManagementClient\n",
    "\n",
    "import os\n",
    "from dotenv import load_dotenv\n",
    "load_dotenv()\n",
    "\n",
    "credential = DefaultAzureCredential()\n",
    "subscription_id = os.environ[\"AZURE_SUBSCRIPTION_ID\"]"
   ]
  },
  {
   "cell_type": "code",
   "execution_count": 7,
   "metadata": {},
   "outputs": [
    {
     "name": "stdout",
     "output_type": "stream",
     "text": [
      "Resource: cs110032002dbe11b2c, Type: Microsoft.Storage/storageAccounts\n",
      "Resource: DefaultWorkspace-koreacentral, Type: Microsoft.OperationalInsights/workspaces\n",
      "Resource: ai102-test, Type: Microsoft.CognitiveServices/accounts\n",
      "Resource: ai102-keys, Type: Microsoft.KeyVault/vaults\n",
      "Resource: DefaultWorkspace-eastus, Type: Microsoft.OperationalInsights/workspaces\n",
      "Resource: DefaultWorkspace-eastus2, Type: Microsoft.OperationalInsights/workspaces\n",
      "Resource: azureapp-auto, Type: Microsoft.Insights/actiongroups\n",
      "Resource: Service Health-Problem in „Azure subscription 1“, Type: Microsoft.Insights/activityLogAlerts\n"
     ]
    }
   ],
   "source": [
    "resource_client = ResourceManagementClient(credential, subscription_id)\n",
    "consumption_client = ConsumptionManagementClient(credential, subscription_id)\n",
    "\n",
    "# Fetch the list of resource groups in the subscription\n",
    "resource_groups = resource_client.resource_groups.list()\n",
    "\n",
    "# Iterate through the resource groups and fetch the resources in each group\n",
    "for resource_group in resource_groups:\n",
    "    resources = resource_client.resources.list_by_resource_group(resource_group.name)\n",
    "    for resource in resources:\n",
    "        print(f\"Resource: {resource.name}, Type: {resource.type}\")\n"
   ]
  },
  {
   "cell_type": "code",
   "execution_count": 26,
   "metadata": {},
   "outputs": [
    {
     "name": "stdout",
     "output_type": "stream",
     "text": [
      "Current total cost: $0.00\n"
     ]
    }
   ],
   "source": [
    "# Get the current costs for the subscription\n",
    "scope = f\"/subscriptions/{subscription_id}\"\n",
    "query = \"usageStart ge 2024-01-01 and properties/usageEnd le 2024-12-31\"\n",
    "usage_details = consumption_client.usage_details.list(scope, filter=query)\n",
    "\n",
    "total_cost = 0\n",
    "for usage in usage_details:\n",
    "    total_cost += usage.cost_in_billing_currency\n",
    "\n",
    "print(f\"Current total cost: ${total_cost:.2f}\")\n"
   ]
  },
  {
   "cell_type": "code",
   "execution_count": null,
   "metadata": {},
   "outputs": [],
   "source": [
    "# Get the cost forecast for the subscription\n",
    "forecast_scope = f\"/subscriptions/{subscription_id}/providers/Microsoft.Consumption/forecasts\"\n",
    "forecast_period = \"Monthly\"\n",
    "forecast_include_actual_cost = True\n",
    "forecast_include_fresh_partial_cost = True\n",
    "\n",
    "forecast = consumption_client.forecasts.usage(\n",
    "    scope=forecast_scope,\n",
    "    grain=forecast_period,\n",
    "    include_actual_cost=forecast_include_actual_cost,\n",
    "    include_fresh_partial_cost=forecast_include_fresh_partial_cost\n",
    ")\n",
    "\n",
    "print(f\"Forecast cost for the next month: ${forecast.amount:.2f}\")"
   ]
  }
 ],
 "metadata": {
  "kernelspec": {
   "display_name": "Python 3",
   "language": "python",
   "name": "python3"
  },
  "language_info": {
   "codemirror_mode": {
    "name": "ipython",
    "version": 3
   },
   "file_extension": ".py",
   "mimetype": "text/x-python",
   "name": "python",
   "nbconvert_exporter": "python",
   "pygments_lexer": "ipython3",
   "version": "3.12.2"
  }
 },
 "nbformat": 4,
 "nbformat_minor": 2
}
