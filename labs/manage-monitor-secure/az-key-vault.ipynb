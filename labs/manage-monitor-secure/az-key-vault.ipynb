{
 "cells": [
  {
   "cell_type": "markdown",
   "metadata": {},
   "source": [
    "# Azure Key Vault\n",
    "Here you will create a key vault service. Subsequently a service principal will be created.\n",
    "Based on this tutorial: https://microsoftlearning.github.io/mslearn-ai-services/Instructions/Exercises/02-ai-services-security.html"
   ]
  },
  {
   "cell_type": "markdown",
   "metadata": {},
   "source": [
    "## Create a key vault and add a secret\n",
    "\n",
    "First, you need to create a key vault and add a *secret* for the Azure AI services key.\n",
    "\n",
    "1. Make a note of the **key1** value for your Azure AI services resource (or copy it to the clipboard).\n",
    "2. In the Azure portal, on the **Home** page, select the **&#65291;Create a resource** button, search for *Key Vault*, and create a **Key Vault** resource with the following settings:\n",
    "\n",
    "    - **Basics** tab\n",
    "        - **Subscription**: *Your Azure subscription*\n",
    "        - **Resource group**: *The same resource group as your Azure AI service resource*\n",
    "        - **Key vault name**: *Enter a unique name*\n",
    "        - **Region**: *The same region as your Azure AI service resource*\n",
    "        - **Pricing tier**: Standard\n",
    "    \n",
    "    - **Access configuration** tab\n",
    "        -  **Permission model**: Vault access policy\n",
    "        - Scroll down to the **Access policies** section and select your user using the checkbox on the left. Then select **Review + create**, and select **Create** to create your resource.\n",
    "     \n",
    "3. Wait for deployment to complete and then go to your key vault resource.\n",
    "4. In the left navigation pane, select **Secrets** (in the Objects section).\n",
    "5. Select **+ Generate/Import** and add a new secret with the following settings :\n",
    "    - **Upload options**: Manual\n",
    "    - **Name**: AI-Services-Key *(it's important to match this exactly, because later you'll run code that retrieves the secret based on this name)*\n",
    "    - **Value**: *Your **key1** Azure AI services key*\n",
    "6. Select **Create**."
   ]
  },
  {
   "cell_type": "markdown",
   "metadata": {},
   "source": [
    "## Create a service principal for the key vault"
   ]
  },
  {
   "cell_type": "code",
   "execution_count": 8,
   "metadata": {},
   "outputs": [],
   "source": [
    "# Use the CLI\n",
    "import os\n",
    "from dotenv import load_dotenv\n",
    "load_dotenv()\n",
    "\n",
    "subscription_id = os.environ[\"AZURE_SUBSCRIPTION_ID\"]\n",
    "resource_group_name = os.environ[\"RESOURCE_GROUP_NAME\"]\n",
    "sp_name = 'api://ai102-test-app'\n",
    "key_vault_name = 'ai102-keys'"
   ]
  },
  {
   "cell_type": "code",
   "execution_count": 2,
   "metadata": {},
   "outputs": [],
   "source": [
    "# Actually using cli commands in notebooks is dangerous, because it can expose secrets.\n",
    "# So don't do this at work ;)\n",
    "output = !az ad sp create-for-rbac -n {sp_name} --role owner --scopes subscriptions/{subscription_id}/resourceGroups/{resource_group_name}"
   ]
  },
  {
   "cell_type": "code",
   "execution_count": 3,
   "metadata": {},
   "outputs": [],
   "source": [
    "# FYI: I'm trying to read out the parameters without exposing them \n",
    "out = \"\".join(output)\n",
    "appId = out.split('\"appId\": ')[-1].split('\"')[1]\n",
    "password = out.split('\"password\": ')[-1].split('\"')[1]\n",
    "tenant = out.split('\"tenant\": ')[-1].split('\"')[1]"
   ]
  },
  {
   "cell_type": "code",
   "execution_count": 14,
   "metadata": {},
   "outputs": [],
   "source": [
    "# Next, get the object id\n",
    "obj = !az ad sp show --id {appId}\n",
    "obj_id = \"\".join(obj).split('\"id\": ')[-1].split('\"')[1]"
   ]
  },
  {
   "cell_type": "code",
   "execution_count": 18,
   "metadata": {},
   "outputs": [],
   "source": [
    "# Finally, assign permissions for the new service principal to access secrets in your key vault\n",
    "permissions = !az keyvault set-policy -n {key_vault_name} --object-id {obj_id} --resource-group {resource_group_name} --secret-permissions get list"
   ]
  },
  {
   "cell_type": "markdown",
   "metadata": {},
   "source": [
    "## Test the service principal\n",
    "\n",
    "Check that your service principal can access the secret Azure AI services key in your key vault and use it to connect to your Azure AI services resource"
   ]
  },
  {
   "cell_type": "code",
   "execution_count": 24,
   "metadata": {},
   "outputs": [],
   "source": [
    "# Add all necessary to the environment\n",
    "os.environ[\"AI_SERVICE_ENDPOINT\"] = \"https://ai102-test.cognitiveservices.azure.com/\"\n",
    "os.environ[\"KEY_VAULT\"] = key_vault_name\n",
    "os.environ[\"TENANT_ID\"] = tenant\n",
    "os.environ[\"APP_ID\"] = appId\n",
    "os.environ[\"APP_PASSWORD\"] = password"
   ]
  },
  {
   "cell_type": "code",
   "execution_count": 25,
   "metadata": {},
   "outputs": [
    {
     "name": "stdout",
     "output_type": "stream",
     "text": [
      "Language: English\n"
     ]
    }
   ],
   "source": [
    "# import keyvault-client.py from the same directory\n",
    "import keyvault_client\n",
    "keyvault_client.main()"
   ]
  },
  {
   "cell_type": "markdown",
   "metadata": {},
   "source": [
    "Seems to be working! Have a look into the `keyvault_client.py` to better understand how the secrets are fetched from the Azure key vault using the service principal."
   ]
  },
  {
   "cell_type": "markdown",
   "metadata": {},
   "source": []
  }
 ],
 "metadata": {
  "kernelspec": {
   "display_name": "Python 3",
   "language": "python",
   "name": "python3"
  },
  "language_info": {
   "codemirror_mode": {
    "name": "ipython",
    "version": 3
   },
   "file_extension": ".py",
   "mimetype": "text/x-python",
   "name": "python",
   "nbconvert_exporter": "python",
   "pygments_lexer": "ipython3",
   "version": "3.12.2"
  }
 },
 "nbformat": 4,
 "nbformat_minor": 2
}
