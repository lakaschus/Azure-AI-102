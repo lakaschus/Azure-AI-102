{
 "cells": [
  {
   "cell_type": "markdown",
   "metadata": {},
   "source": [
    "# Authentication using managed identities\n",
    "\n",
    "https://learn.microsoft.com/en-us/training/modules/secure-ai-services/2-authentication"
   ]
  },
  {
   "cell_type": "code",
   "execution_count": null,
   "metadata": {},
   "outputs": [],
   "source": []
  },
  {
   "cell_type": "markdown",
   "metadata": {},
   "source": [
    "# Network security\n",
    "\n",
    "https://learn.microsoft.com/en-us/training/modules/secure-ai-services/3-implement-network-security"
   ]
  },
  {
   "cell_type": "markdown",
   "metadata": {},
   "source": []
  }
 ],
 "metadata": {
  "language_info": {
   "name": "python"
  }
 },
 "nbformat": 4,
 "nbformat_minor": 2
}
